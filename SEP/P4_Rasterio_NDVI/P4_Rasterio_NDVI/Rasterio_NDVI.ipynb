{
 "cells": [
  {
   "cell_type": "markdown",
   "id": "neutral-alexandria",
   "metadata": {},
   "source": [
    "# NDVI calculation using Python Rasterio\n",
    "\n",
    "**Data specification**: _data_spec.txt_\n",
    "\n",
    "Before to start, **add Rasterio library to your virtual env** (if not already installed):\n",
    "\n",
    "`conda install -c conda-forge rasterio`"
   ]
  },
  {
   "cell_type": "code",
   "execution_count": null,
   "id": "binary-harassment",
   "metadata": {},
   "outputs": [],
   "source": [
    "'''import libraries'''\n",
    "import os\n",
    "import rasterio as rio\n",
    "import numpy as np\n",
    "from rasterio.plot import show\n",
    "import matplotlib.pyplot as plt"
   ]
  },
  {
   "cell_type": "code",
   "execution_count": null,
   "id": "advance-apartment",
   "metadata": {},
   "outputs": [],
   "source": [
    "''' Set paths '''\n",
    "# Full path to the RGB image (just to have an overviview)\n",
    "rgb_image_path = r\"planet_rgb.tiff\" \n",
    "\n",
    "# Full path to the multispectral image\n",
    "multiband_image_path = r'planet.tiff'\n",
    "\n",
    "# Create an output folder where the output map will be stored\n",
    "out_path = 'output'\n",
    "os.mkdir(out_path)"
   ]
  },
  {
   "cell_type": "code",
   "execution_count": null,
   "id": "hidden-dryer",
   "metadata": {},
   "outputs": [],
   "source": [
    "''' Plot the RGB image using the Rasterio plotting functions (useful for RGB composite or single band plots) '''\n",
    "with rio.open(rgb_image_path) as rgb:\n",
    "    show(rgb.read(), title='RGB composite')\n",
    "#pixel row and column indexes are used as default ticks by the plt.imshow function on which rasterio.plot is based"
   ]
  },
  {
   "cell_type": "code",
   "execution_count": null,
   "id": "irish-sleeve",
   "metadata": {},
   "outputs": [],
   "source": [
    "''' Load Red and NIR bands from the real multispectral image\n",
    " (note all PlanetScope 4-band images have band order 1=Blue|2=Green|3=Red|4=Near-InfraRed) and\n",
    " each band is loaded as numpy nd array)'''\n",
    "# Load Red band\n",
    "with rio.open(multiband_image_path) as src:\n",
    "    band_red = src.read(3).astype(rio.float32)\n",
    "    \n",
    "# Load NIR band \n",
    "with rio.open(multiband_image_path) as src:\n",
    "    band_nir = src.read(4).astype(rio.float32)"
   ]
  },
  {
   "cell_type": "code",
   "execution_count": null,
   "id": "located-convert",
   "metadata": {},
   "outputs": [],
   "source": [
    "'''Calculate NDVI (https://en.wikipedia.org/wiki/Normalized_difference_vegetation_index)'''\n",
    "# Allow division by zero (to prevent unwanted computation interruption due to possible NaN or 0 data)\n",
    "np.seterr(divide='ignore', invalid='ignore')\n",
    "\n",
    "# Run NDVI formula\n",
    "ndvi = (band_nir - band_red) / (band_nir + band_red)"
   ]
  },
  {
   "cell_type": "code",
   "execution_count": null,
   "id": "connected-question",
   "metadata": {},
   "outputs": [],
   "source": [
    "'''Plot the NDVI map (run all plt functions together!)'''\n",
    "# To have a better visualization the color ramp is bounded between the 0.1 and the 0.9 quantiles of the NDVI distribution)\n",
    "plt.imshow(ndvi, cmap=\"RdYlGn\", vmin=-np.quantile(ndvi, 0.1), vmax=np.quantile(ndvi, 0.9))\n",
    "\n",
    "# To not show ax ticks (optional)\n",
    "plt.xticks([]) \n",
    "plt.yticks([])\n",
    "\n",
    "# To add a title\n",
    "plt.title('NDVI')\n",
    "\n",
    "# To show the color bar legend\n",
    "plt.colorbar()"
   ]
  },
  {
   "cell_type": "code",
   "execution_count": null,
   "id": "missing-appeal",
   "metadata": {},
   "outputs": [],
   "source": [
    "'''Save the NDVI map in a new spatial raster''' \n",
    "# Set spatial characteristics of the output object to mirror the input (using Rasterio method called .meta)\n",
    "kwargs = src.meta\n",
    "# Change the raster value type to 'float32' and specify that it will be a single-band raster\n",
    "kwargs['dtype'] = 'float32'\n",
    "kwargs['count'] = 1\n",
    "\n",
    "# Save the map in the output folder\n",
    "with rio.open(os.path.join(out_path,'ndvi.tiff'), 'w', **kwargs) as dst:\n",
    "        dst.write_band(1, ndvi.astype(rio.float32))"
   ]
  }
 ],
 "metadata": {
  "kernelspec": {
   "display_name": "Python 3 (ipykernel)",
   "language": "python",
   "name": "python3"
  },
  "language_info": {
   "codemirror_mode": {
    "name": "ipython",
    "version": 3
   },
   "file_extension": ".py",
   "mimetype": "text/x-python",
   "name": "python",
   "nbconvert_exporter": "python",
   "pygments_lexer": "ipython3",
   "version": "3.10.9"
  }
 },
 "nbformat": 4,
 "nbformat_minor": 5
}
